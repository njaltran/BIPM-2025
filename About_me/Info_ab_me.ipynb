{
 "cells": [
  {
   "cell_type": "markdown",
   "id": "79d0f77a",
   "metadata": {},
   "source": [
    "Jack's story\n",
    "=============\n",
    "\n",
    "Master student in Business Inteliigence and Process Management at HWR Berlin\n",
    "\n",
    "https://www.linkedin.com/in/nikolas-jack-altran/\n",
    "https://github.com/njaltran\n",
    "\n",
    "### Born and Raised\n",
    "\n",
    "Trieste, Italy (https://pixabay.com/images/search/trieste/)\n",
    "\n",
    "### What I like\n",
    " \n",
    " - Sailing\n",
    " - Coffee\n",
    " - Martial arts\n",
    " - Cooking\n",
    " \n",
    " ### Accademic Journey\n",
    " \n",
    "|Period      |Location        | Role/skills                                |\n",
    "|:----------| :--------------| :---------------------------------- |\n",
    "|High-school |Trieste, Italy  | C and C++ classes                          |\n",
    "|Bachelor    |Berlin, Germany | Data Science & Business                    |\n",
    "|Master      |Berlin, Germany | Business Intelligence & Process management |\n",
    "\n",
    "\n",
    "<iframe src=\"academic_journey_map.html\" width=\"800\" height=\"600\" style=\"border:none;\"></iframe>"
   ]
  }
 ],
 "metadata": {
  "kernelspec": {
   "display_name": "Python 3 (ipykernel)",
   "language": "python",
   "name": "python3"
  },
  "language_info": {
   "codemirror_mode": {
    "name": "ipython",
    "version": 3
   },
   "file_extension": ".py",
   "mimetype": "text/x-python",
   "name": "python",
   "nbconvert_exporter": "python",
   "pygments_lexer": "ipython3",
   "version": "3.9.13"
  }
 },
 "nbformat": 4,
 "nbformat_minor": 5
}
