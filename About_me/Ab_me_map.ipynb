{
 "cells": [
  {
   "cell_type": "code",
   "execution_count": 1,
   "id": "f674e30a",
   "metadata": {},
   "outputs": [
    {
     "name": "stdout",
     "output_type": "stream",
     "text": [
      "Collecting folium\n",
      "  Downloading folium-0.20.0-py2.py3-none-any.whl (113 kB)\n",
      "\u001b[2K     \u001b[90m━━━━━━━━━━━━━━━━━━━━━━━━━━━━━━━━━━━━━━━\u001b[0m \u001b[32m113.4/113.4 kB\u001b[0m \u001b[31m2.9 MB/s\u001b[0m eta \u001b[36m0:00:00\u001b[0m\n",
      "\u001b[?25hCollecting branca>=0.6.0\n",
      "  Downloading branca-0.8.2-py3-none-any.whl (26 kB)\n",
      "Requirement already satisfied: numpy in /Users/nikolasjackaltran/.local/lib/python3.9/site-packages (from folium) (1.24.4)\n",
      "Collecting xyzservices\n",
      "  Downloading xyzservices-2025.4.0-py3-none-any.whl (90 kB)\n",
      "\u001b[2K     \u001b[90m━━━━━━━━━━━━━━━━━━━━━━━━━━━━━━━━━━━━━━━━\u001b[0m \u001b[32m90.4/90.4 kB\u001b[0m \u001b[31m2.7 MB/s\u001b[0m eta \u001b[36m0:00:00\u001b[0m\n",
      "\u001b[?25hRequirement already satisfied: jinja2>=2.9 in /Users/nikolasjackaltran/opt/anaconda3/lib/python3.9/site-packages (from folium) (3.1.6)\n",
      "Requirement already satisfied: requests in /Users/nikolasjackaltran/opt/anaconda3/lib/python3.9/site-packages (from folium) (2.32.3)\n",
      "Requirement already satisfied: MarkupSafe>=2.0 in /Users/nikolasjackaltran/opt/anaconda3/lib/python3.9/site-packages (from jinja2>=2.9->folium) (3.0.2)\n",
      "Requirement already satisfied: idna<4,>=2.5 in /Users/nikolasjackaltran/opt/anaconda3/lib/python3.9/site-packages (from requests->folium) (3.3)\n",
      "Requirement already satisfied: urllib3<3,>=1.21.1 in /Users/nikolasjackaltran/opt/anaconda3/lib/python3.9/site-packages (from requests->folium) (1.26.11)\n",
      "Requirement already satisfied: certifi>=2017.4.17 in /Users/nikolasjackaltran/opt/anaconda3/lib/python3.9/site-packages (from requests->folium) (2022.9.24)\n",
      "Requirement already satisfied: charset-normalizer<4,>=2 in /Users/nikolasjackaltran/opt/anaconda3/lib/python3.9/site-packages (from requests->folium) (2.0.4)\n",
      "Installing collected packages: xyzservices, branca, folium\n",
      "Successfully installed branca-0.8.2 folium-0.20.0 xyzservices-2025.4.0\n",
      "Note: you may need to restart the kernel to use updated packages.\n"
     ]
    }
   ],
   "source": [
    "pip install folium"
   ]
  },
  {
   "cell_type": "code",
   "execution_count": 3,
   "id": "1457eba9",
   "metadata": {},
   "outputs": [
    {
     "name": "stdout",
     "output_type": "stream",
     "text": [
      "Collecting pyproj\n",
      "  Downloading pyproj-3.6.1-cp39-cp39-macosx_10_9_x86_64.whl (6.1 MB)\n",
      "\u001b[2K     \u001b[90m━━━━━━━━━━━━━━━━━━━━━━━━━━━━━━━━━━━━━━━━\u001b[0m \u001b[32m6.1/6.1 MB\u001b[0m \u001b[31m2.7 MB/s\u001b[0m eta \u001b[36m0:00:00\u001b[0m00:01\u001b[0m00:01\u001b[0m\n",
      "\u001b[?25hRequirement already satisfied: certifi in /Users/nikolasjackaltran/opt/anaconda3/lib/python3.9/site-packages (from pyproj) (2022.9.24)\n",
      "Installing collected packages: pyproj\n",
      "Successfully installed pyproj-3.6.1\n",
      "Note: you may need to restart the kernel to use updated packages.\n"
     ]
    }
   ],
   "source": [
    "pip install pyproj"
   ]
  },
  {
   "cell_type": "code",
   "execution_count": 4,
   "id": "6d794528",
   "metadata": {},
   "outputs": [
    {
     "data": {
      "text/plain": [
       "True"
      ]
     },
     "execution_count": 4,
     "metadata": {},
     "output_type": "execute_result"
    }
   ],
   "source": [
    "import folium\n",
    "from pyproj import Geod\n",
    "\n",
    "geod = Geod(ellps=\"WGS84\")\n",
    "\n",
    "# Define stops\n",
    "stops = [\n",
    "    {\"city\": \"Trieste, Italy\", \"lat\": 45.6496485, \"lon\": 13.7772781, \"popup\": \"Born and raised\"},\n",
    "    {\"city\": \"Lake Charles, Louisiana\", \"lat\":30.2305095, \"lon\": -93.2169807, \"popup\": \"Exchange year 2019-2020\"},\n",
    "    {\"city\": \"Berlin, Germany\", \"lat\": 52.5200, \"lon\": 13.4050, \"popup\": \"University/working student(2021-Now) 🏫\"}\n",
    "]\n",
    "\n",
    "# Create map\n",
    "m = folium.Map(\n",
    "    location=[40, 0],\n",
    "    zoom_start=2.3,\n",
    "    tiles=\"https://{s}.basemaps.cartocdn.com/light_all/{z}/{x}/{y}{r}.png\",\n",
    "    attr=\"© OpenStreetMap contributors © CARTO\"\n",
    ")\n",
    "\n",
    "# Add markers\n",
    "for stop in stops:\n",
    "    folium.Marker(\n",
    "        [stop[\"lat\"], stop[\"lon\"]],\n",
    "        popup=stop[\"popup\"],\n",
    "        tooltip=stop[\"city\"],\n",
    "        icon=folium.Icon(color=\"blue\", icon=\"info-sign\")\n",
    "    ).add_to(m)\n",
    "\n",
    "# Function to compute many intermediate great-circle points\n",
    "def great_circle_points(lat1, lon1, lat2, lon2, npts=100):\n",
    "    points = geod.npts(lon1, lat1, lon2, lat2, npts)\n",
    "    coords = [(lat1, lon1)] + [(lat, lon) for lon, lat in points] + [(lat2, lon2)]\n",
    "    return coords\n",
    "\n",
    "# Draw arcs between consecutive stops\n",
    "for i in range(len(stops) - 1):\n",
    "    start, end = stops[i], stops[i + 1]\n",
    "    arc = great_circle_points(start[\"lat\"], start[\"lon\"], end[\"lat\"], end[\"lon\"], npts=60)\n",
    "    folium.PolyLine(\n",
    "        arc,\n",
    "        color=\"darkblue\",\n",
    "        weight=3,\n",
    "        opacity=0.7\n",
    "    ).add_to(m)\n",
    "\n",
    "# Save and open\n",
    "m.save(\"academic_journey_map.html\")\n",
    "import webbrowser; webbrowser.open(\"academic_journey_map.html\")"
   ]
  },
  {
   "cell_type": "code",
   "execution_count": null,
   "id": "3512d1ff",
   "metadata": {},
   "outputs": [],
   "source": []
  }
 ],
 "metadata": {
  "kernelspec": {
   "display_name": "Python 3 (ipykernel)",
   "language": "python",
   "name": "python3"
  },
  "language_info": {
   "codemirror_mode": {
    "name": "ipython",
    "version": 3
   },
   "file_extension": ".py",
   "mimetype": "text/x-python",
   "name": "python",
   "nbconvert_exporter": "python",
   "pygments_lexer": "ipython3",
   "version": "3.9.13"
  }
 },
 "nbformat": 4,
 "nbformat_minor": 5
}
