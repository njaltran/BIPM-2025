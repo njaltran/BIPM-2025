{
 "cells": [
  {
   "cell_type": "markdown",
   "id": "e450fea9",
   "metadata": {},
   "source": [
    "Jack's story\n",
    "=============\n",
    "\n",
    "Current Position\n",
    "\n",
    "Master student in Business Inteliigence and Process Management at HWR Berlin\n",
    "\n",
    "https://www.linkedin.com/in/nikolas-jack-altran/\n",
    "\n",
    "### Born and Raised\n",
    "\n",
    "Trieste Italy (https://pixabay.com/images/search/trieste/)\n",
    "\n",
    "### What I like\n",
    " \n",
    " - Sailing\n",
    " - Coffee\n",
    " - Martial arts\n",
    " - Cooking\n",
    " \n",
    " ### Accademic Journey\n",
    " \n",
    "    |Period      |Location       | Role/skills       |\n",
    "    |High-school |Trieste, Italy | C and C++ classes |\n",
    "    \n",
    "\n",
    "| Period     | Location              | Role                            |\n",
    "| :-------   | :-------------------- | :------------------------------ |\n",
    "| High-school| Trieste, Italy      | C and C++ classes               |\n",
    "| 1991–97  | Ohio State University | PhD in Physics                  |\n",
    "| 1997–99  | Georgia Tech          | Postdoc                         |\n",
    "| 2000–06  | Princeton, NJ         | Siemens Research (Data Science) |\n",
    "| 2006–11  | Manhattan, NY         | Startup (Machine Learning)      |\n",
    "| 2011–Now | Berlin, Germany       | Professor, Berlin University    |\n",
    "\n",
    "\n",
    "<iframe src=\"academic_journey_map.html\" width=\"800\" height=\"600\" style=\"border:none;\"></iframe>"
   ]
  }
 ],
 "metadata": {
  "kernelspec": {
   "display_name": "Python 3 (ipykernel)",
   "language": "python",
   "name": "python3"
  },
  "language_info": {
   "codemirror_mode": {
    "name": "ipython",
    "version": 3
   },
   "file_extension": ".py",
   "mimetype": "text/x-python",
   "name": "python",
   "nbconvert_exporter": "python",
   "pygments_lexer": "ipython3",
   "version": "3.9.13"
  }
 },
 "nbformat": 4,
 "nbformat_minor": 5
}
