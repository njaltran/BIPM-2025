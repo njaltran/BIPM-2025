{
 "cells": [
  {
   "cell_type": "markdown",
   "id": "f38cbe92",
   "metadata": {},
   "source": [
    "## Part one: Distribution of # employees in the office on a random day"
   ]
  },
  {
   "cell_type": "markdown",
   "id": "b59ce7f8",
   "metadata": {},
   "source": [
    "For each simulated week:\n",
    "\n",
    "    Each of nnn employees randomly selects 2 distinct office days (from 5).\n",
    "\n",
    "    For each day, count how many employees chose that day.\n",
    "\n",
    "    Aggregate across simulations to approximate the distribution.\n",
    "\n",
    "    Plot a histogram"
   ]
  },
  {
   "cell_type": "code",
   "execution_count": 1,
   "id": "bdce9b20",
   "metadata": {},
   "outputs": [],
   "source": [
    "import numpy as np\n",
    "import matplotlib.pyplot as plt"
   ]
  },
  {
   "cell_type": "markdown",
   "id": "1068f567",
   "metadata": {},
   "source": [
    "### Simiulation of one week"
   ]
  },
  {
   "cell_type": "code",
   "execution_count": 2,
   "id": "79a75fdc",
   "metadata": {},
   "outputs": [],
   "source": [
    "import numpy as np\n",
    "\n",
    "def officedays(n, random_state=None):\n",
    "    rng = np.random.default_rng(random_state)\n",
    "    workdays = np.zeros(5, dtype=int)\n",
    "    for i in range(n):\n",
    "        days = rng.permutation(5)[:2]\n",
    "        workdays[days] += 1\n",
    "    return workdays"
   ]
  },
  {
   "cell_type": "markdown",
   "id": "f5e751d8",
   "metadata": {},
   "source": [
    "### Repeating the simulation for x number of weeks"
   ]
  },
  {
   "cell_type": "code",
   "execution_count": 3,
   "id": "0c6d6b24",
   "metadata": {},
   "outputs": [],
   "source": [
    "all_weeks = []\n",
    "num_weeks = 100000\n",
    "n=200\n",
    "for i in range(num_weeks):\n",
    "    all_weeks.append(officedays(n))\n",
    "all_weeks = np.array(all_weeks)"
   ]
  },
  {
   "cell_type": "code",
   "execution_count": 4,
   "id": "dcec2c3c",
   "metadata": {},
   "outputs": [
    {
     "data": {
      "text/plain": [
       "array([8001200, 8004338, 8002136, 7995343, 7996983])"
      ]
     },
     "execution_count": 4,
     "metadata": {},
     "output_type": "execute_result"
    }
   ],
   "source": [
    "all_weeks = np.array(all_weeks)\n",
    "column_sums = all_weeks.sum(axis=0)\n",
    "column_sums"
   ]
  },
  {
   "cell_type": "code",
   "execution_count": 5,
   "id": "e49692fd",
   "metadata": {},
   "outputs": [
    {
     "data": {
      "text/plain": [
       "Text(0.5, 1.0, 'Total Office Attendance per Day Across Weeks')"
      ]
     },
     "execution_count": 5,
     "metadata": {},
     "output_type": "execute_result"
    },
    {
     "data": {
      "image/png": "[encoded data removed]",
      "text/plain": [
       "<Figure size 640x480 with 1 Axes>"
      ]
     },
     "metadata": {},
     "output_type": "display_data"
    }
   ],
   "source": [
    "days = ['Monday', 'Tuesday', 'Wednesday', 'Thursday', 'Friday']\n",
    "plt.bar(days, column_sums)\n",
    "plt.title(\"Total Office Attendance per Day Across Weeks\")"
   ]
  },
  {
   "cell_type": "markdown",
   "id": "3795f3ea",
   "metadata": {},
   "source": [
    "## Probability that two particular employees overlap ≥ 2 days"
   ]
  },
  {
   "cell_type": "code",
   "execution_count": 6,
   "id": "77a7a26d",
   "metadata": {},
   "outputs": [
    {
     "data": {
      "text/plain": [
       "array([[1, 0, 1, 1, 1],\n",
       "       [1, 1, 0, 2, 0],\n",
       "       [0, 2, 1, 0, 1],\n",
       "       ...,\n",
       "       [0, 1, 1, 2, 0],\n",
       "       [1, 0, 1, 0, 2],\n",
       "       [1, 0, 2, 0, 1]])"
      ]
     },
     "execution_count": 6,
     "metadata": {},
     "output_type": "execute_result"
    }
   ],
   "source": [
    "two_ppl_sim= []\n",
    "for i in range(num_weeks):\n",
    "    two_ppl_sim.append(officedays(2))\n",
    "two_ppl_sim=np.array(two_ppl_sim)\n",
    "two_ppl_sim"
   ]
  },
  {
   "cell_type": "code",
   "execution_count": 9,
   "id": "709b5d2d",
   "metadata": {},
   "outputs": [
    {
     "name": "stdout",
     "output_type": "stream",
     "text": [
      "The collegues met on 79734 day and didnt meet on 420266 days at the office out of 100000 weeks\n"
     ]
    },
    {
     "data": {
      "text/plain": [
       "0.159468"
      ]
     },
     "execution_count": 9,
     "metadata": {},
     "output_type": "execute_result"
    }
   ],
   "source": [
    "overlap = 0\n",
    "nonoverlap = 0\n",
    "for x in np.nditer(two_ppl_sim):\n",
    "    if x >=2: \n",
    "        overlap +=1\n",
    "    else :\n",
    "        nonoverlap +=1\n",
    "        \n",
    "print(\"The collegues met on\" , overlap , \"day and didnt meet on\", nonoverlap, \"days at the office out of\", num_weeks,\"weeks\")\n",
    "\n",
    "odds= overlap / (nonoverlap+overlap)\n",
    "odds"
   ]
  }
 ],
 "metadata": {
  "kernelspec": {
   "display_name": "Python 3 (ipykernel)",
   "language": "python",
   "name": "python3"
  },
  "language_info": {
   "codemirror_mode": {
    "name": "ipython",
    "version": 3
   },
   "file_extension": ".py",
   "mimetype": "text/x-python",
   "name": "python",
   "nbconvert_exporter": "python",
   "pygments_lexer": "ipython3",
   "version": "3.9.13"
  }
 },
 "nbformat": 4,
 "nbformat_minor": 5
}
